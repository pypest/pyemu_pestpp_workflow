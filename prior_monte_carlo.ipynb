{
 "cells": [
  {
   "cell_type": "markdown",
   "metadata": {},
   "source": [
    "## Run the prior ensemble through the model"
   ]
  },
  {
   "cell_type": "code",
   "execution_count": null,
   "metadata": {},
   "outputs": [],
   "source": [
    "import os\n",
    "import numpy as np\n",
    "import pandas as pd\n",
    "import matplotlib.pyplot as plt\n",
    "import pyemu\n",
    "plt.rcParams['font.size'] = 12"
   ]
  },
  {
   "cell_type": "code",
   "execution_count": null,
   "metadata": {},
   "outputs": [],
   "source": [
    "t_d = \"freyberg6_template\"\n",
    "assert os.path.exists(t_d),\" need to run the setup_pestpp_interface notebook first!\""
   ]
  },
  {
   "cell_type": "code",
   "execution_count": null,
   "metadata": {},
   "outputs": [],
   "source": [
    "pst = pyemu.Pst(os.path.join(t_d,\"freyberg6.pst\"))"
   ]
  },
  {
   "cell_type": "code",
   "execution_count": null,
   "metadata": {},
   "outputs": [],
   "source": [
    "pst.pestpp_options"
   ]
  },
  {
   "cell_type": "code",
   "execution_count": null,
   "metadata": {},
   "outputs": [],
   "source": [
    "pst.control_data.noptmax = -1\n",
    "pst_filename = \"freyberg6_pmc.pst\"\n",
    "pst.write(os.path.join(t_d,pst_filename),version=2)"
   ]
  },
  {
   "cell_type": "code",
   "execution_count": null,
   "metadata": {},
   "outputs": [],
   "source": [
    "pyemu.os_utils.start_workers(\n",
    "    t_d,\n",
    "    \"pestpp-ies\",\n",
    "    pst_filename,\n",
    "    num_workers=8,\n",
    "    master_dir=\"master_pmc\", \n",
    "    worker_root='.'\n",
    ")"
   ]
  },
  {
   "cell_type": "code",
   "execution_count": null,
   "metadata": {},
   "outputs": [],
   "source": [
    "obs_filename = pst_filename.replace(\".pst\",\".0.obs.csv\")\n",
    "obs_df = pd.read_csv(os.path.join(\"master_pmc\",obs_filename),index_col=0)"
   ]
  },
  {
   "cell_type": "code",
   "execution_count": null,
   "metadata": {},
   "outputs": [],
   "source": [
    "obs_df"
   ]
  },
  {
   "cell_type": "code",
   "execution_count": null,
   "metadata": {},
   "outputs": [],
   "source": [
    "pst.obs_groups"
   ]
  },
  {
   "cell_type": "code",
   "execution_count": null,
   "metadata": {
    "scrolled": false
   },
   "outputs": [],
   "source": [
    "pst.try_parse_name_metadata()\n",
    "#pst.observation_data.loc[:,\"time\"] = pst.observation_data.time.apply(np.float)\n",
    "obs = pst.observation_data\n",
    "for obs_group in pst.obs_groups:\n",
    "    obs_g = obs.loc[obs.obgnme==obs_group,:].copy()\n",
    "    obs_g.sort_values(by=\"datetime\",inplace=True)\n",
    "    obs_g_df = obs_df.loc[:,obs_g.obsnme]\n",
    "    fig,ax = plt.subplots(1,1,figsize=(15,2))\n",
    "    [ax.plot(obs_g.datetime,obs_g_df.loc[i,obs_g.obsnme],color='0.5',alpha=0.5,lw=0.2) for i in obs_g_df.index]\n",
    "    ax.set_title(obs_group)\n",
    "    plt.setp( ax.xaxis.get_majorticklabels(), rotation=45, horizontalalignment='right' )\n",
    "    plt.show()\n",
    "    \n",
    "    "
   ]
  },
  {
   "cell_type": "markdown",
   "metadata": {},
   "source": [
    "# BOOM!!!"
   ]
  },
  {
   "cell_type": "code",
   "execution_count": null,
   "metadata": {},
   "outputs": [],
   "source": []
  }
 ],
 "metadata": {
  "kernelspec": {
   "display_name": "Python 3",
   "language": "python",
   "name": "python3"
  },
  "language_info": {
   "codemirror_mode": {
    "name": "ipython",
    "version": 3
   },
   "file_extension": ".py",
   "mimetype": "text/x-python",
   "name": "python",
   "nbconvert_exporter": "python",
   "pygments_lexer": "ipython3",
   "version": "3.7.8"
  }
 },
 "nbformat": 4,
 "nbformat_minor": 4
}
